{
 "cells": [
  {
   "cell_type": "code",
   "execution_count": 106,
   "metadata": {},
   "outputs": [],
   "source": [
    "import numpy as np\n",
    "from PIL import Image\n",
    "%matplotlib inline \n",
    "from matplotlib import pyplot as plt"
   ]
  },
  {
   "cell_type": "code",
   "execution_count": 107,
   "metadata": {},
   "outputs": [],
   "source": [
    "def preprocess_image(path):\n",
    "        \"\"\"Load and preprocess the image from the given path.\"\"\"\n",
    "        img = Image.open(path).convert('L')  # Convert to grayscale\n",
    "        #img_data = np.array(img, dtype=np.float32) / 255.0  # Normalize pixel values to [0, 1]\n",
    "        img_data = np.abs(np.array(img, dtype=np.uint8))\n",
    "        img_with_channel = np.expand_dims(img_data, axis=0)  # Add the channel dimension (1, height, width)\n",
    "        return img_with_channel"
   ]
  },
  {
   "cell_type": "code",
   "execution_count": 108,
   "metadata": {},
   "outputs": [
    {
     "name": "stdout",
     "output_type": "stream",
     "text": [
      "(1, 64, 64)\n",
      "(64, 64)\n"
     ]
    },
    {
     "data": {
      "image/png": "[encoded data removed]",
      "text/plain": [
       "<Figure size 640x480 with 1 Axes>"
      ]
     },
     "metadata": {},
     "output_type": "display_data"
    }
   ],
   "source": [
    "imgData = preprocess_image(\"ResizedSymbols64/SymbolA.png\")\n",
    "print(imgData.shape)\n",
    "imgData = (imgData * 255).reshape((64, 64)).astype(np.uint8)  # Denormalize and reshape\n",
    "print(imgData.shape)\n",
    "plt.imshow(imgData, cmap='gray', interpolation='nearest')\n",
    "plt.show()"
   ]
  },
  {
   "cell_type": "code",
   "execution_count": 109,
   "metadata": {},
   "outputs": [
    {
     "name": "stdout",
     "output_type": "stream",
     "text": [
      "[  0   0   0   0   0   0   0   0   0   0   0   0  30 150 150 150 151 151\n",
      " 151 150 150 150 150 150 150 150 150 150 150 150 150 150 151 151 151 151\n",
      " 151 151 150 150 150 150 150 150 150 150 150 150 151 151 151  30   0   0\n",
      "   0   0   0   0   0   0   0   0   0   0]\n",
      "189\n",
      "(1, 64, 64)\n",
      "<class 'numpy.uint8'>\n"
     ]
    }
   ],
   "source": [
    "# Image paths for each symbol\n",
    "image_paths = {\n",
    "    \"A\": {\"woSymbol\": \"./ResizedSymbols64/SymbolA.png\", \"wSymbol\": \"./ResizedSymbols64/SymbolA_R.png\"},\n",
    "    \"B\": {\"woSymbol\": \"./ResizedSymbols64/SymbolB.png\", \"wSymbol\": \"./ResizedSymbols64/SymbolB_R.png\"},\n",
    "    \"C\": {\"woSymbol\": \"./ResizedSymbols64/SymbolC.png\", \"wSymbol\": \"./ResizedSymbols64/SymbolC_R.png\"},\n",
    "    \"D\": {\"woSymbol\": \"./ResizedSymbols64/SymbolD.png\", \"wSymbol\": \"./ResizedSymbols64/SymbolD_R.png\"},\n",
    "    \"E\": {\"woSymbol\": \"./ResizedSymbols64/SymbolE.png\", \"wSymbol\": \"./ResizedSymbols64/SymbolE_R.png\"},\n",
    "    \"F\": {\"woSymbol\": \"./ResizedSymbols64/SymbolF.png\", \"wSymbol\": \"./ResizedSymbols64/SymbolF_R.png\"},\n",
    "    \"G\": {\"woSymbol\": \"./ResizedSymbols64/SymbolG.png\", \"wSymbol\": \"./ResizedSymbols64/SymbolG_R.png\"},\n",
    "    \"H\": {\"woSymbol\": \"./ResizedSymbols64/SymbolH.png\", \"wSymbol\": \"./ResizedSymbols64/SymbolH_R.png\"},\n",
    "}\n",
    "\n",
    "# Initialize images with the same structure as image_paths\n",
    "images = {symbol: {} for symbol in image_paths}\n",
    "\n",
    "# Iterate through image paths and preprocess each image\n",
    "for symbol, paths in image_paths.items():\n",
    "    for key, path in paths.items():\n",
    "        # Preprocess the image and store it in images\n",
    "        images[symbol][key] = preprocess_image(path)\n",
    "\n",
    "print(images['B']['wSymbol'][0][13])\n",
    "print(images['A']['wSymbol'].max())\n",
    "print(images['B']['wSymbol'].shape)\n",
    "print(type(images['B']['wSymbol'][0][13][0]))"
   ]
  }
 ],
 "metadata": {
  "kernelspec": {
   "display_name": "estanciaRL",
   "language": "python",
   "name": "python3"
  },
  "language_info": {
   "codemirror_mode": {
    "name": "ipython",
    "version": 3
   },
   "file_extension": ".py",
   "mimetype": "text/x-python",
   "name": "python",
   "nbconvert_exporter": "python",
   "pygments_lexer": "ipython3",
   "version": "3.12.4"
  }
 },
 "nbformat": 4,
 "nbformat_minor": 2
}
